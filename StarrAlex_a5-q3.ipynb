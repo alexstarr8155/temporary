{
 "cells": [
  {
   "cell_type": "markdown",
   "id": "4c360df7",
   "metadata": {},
   "source": [
    "# A5-Q3: Jacobi and Gauss-Seidel"
   ]
  },
  {
   "cell_type": "markdown",
   "id": "febbb0a3",
   "metadata": {},
   "source": [
    "## Prelims"
   ]
  },
  {
   "cell_type": "code",
   "execution_count": 1,
   "id": "d1564e27",
   "metadata": {},
   "outputs": [],
   "source": [
    "import numpy as np\n",
    "from scipy.linalg import solve_triangular\n",
    "import matplotlib.pyplot as plt"
   ]
  },
  {
   "cell_type": "code",
   "execution_count": 2,
   "id": "33f7200d",
   "metadata": {},
   "outputs": [],
   "source": [
    "def split_diag(A):\n",
    "    D = np.zeros_like(A)\n",
    "    L_plus_U = A.copy()\n",
    "\n",
    "    for i in range(len(A)):\n",
    "        for j in range(len(A)):\n",
    "            if i == j:\n",
    "                D[i, j] = L_plus_U[i, j]\n",
    "                L_plus_U[i, j] = 0\n",
    "            \n",
    "    return D, L_plus_U\n",
    "\n",
    "def decomposition(A):\n",
    "    \n",
    "    D, L_plus_U = split_diag(A)\n",
    "    \n",
    "    U_indices = np.triu_indices(n = A.shape[0], m = A.shape[1])\n",
    "    U = np.zeros_like(A)\n",
    "\n",
    "    L = L_plus_U.copy()\n",
    "    L[U_indices] = U[U_indices]\n",
    "    U[U_indices] = L_plus_U[U_indices]\n",
    "\n",
    "    return D, L, U"
   ]
  },
  {
   "cell_type": "markdown",
   "id": "bc37e881",
   "metadata": {},
   "source": [
    "# (a): `Jacobi_step`"
   ]
  },
  {
   "cell_type": "code",
   "execution_count": 3,
   "id": "a6b143b0",
   "metadata": {},
   "outputs": [],
   "source": [
    "def Jacobi_step(A, f, u0):\n",
    "    '''\n",
    "     u = Jacobi_step(A, f, u0)\n",
    "     Performs one Jacobi iteration on\n",
    "     A u = f using the initial guess of u0.\n",
    "    '''\n",
    "\n",
    "    D, L, U = decomposition(A)\n",
    "    \n",
    "    results = np.zeros_like(u0, dtype = 'float64')\n",
    "    unscaled_product = (f - (np.dot((L + U), u0)))\n",
    "    \n",
    "    for i in range(D.shape[0]):\n",
    "        results[i] = unscaled_product[i] / D[i, i]\n",
    "    \n",
    "    return results"
   ]
  },
  {
   "cell_type": "markdown",
   "id": "b21b1817",
   "metadata": {},
   "source": [
    "# (b): `GS_step`"
   ]
  },
  {
   "cell_type": "code",
   "execution_count": 4,
   "id": "5241833e",
   "metadata": {},
   "outputs": [],
   "source": [
    "def GS_step(A, f, u0):\n",
    "    '''\n",
    "     u = GS_step(A, f, u0)\n",
    "     Performs one Gauss-Seidel iteration on\n",
    "     A u = f using the initial guess of u0.\n",
    "    '''\n",
    "    \n",
    "    D, L, U = decomposition(A)\n",
    "    return solve_triangular((L + D), f - (np.dot(U, u0)), lower = True)\n",
    "    "
   ]
  },
  {
   "cell_type": "markdown",
   "id": "7d68556d",
   "metadata": {},
   "source": [
    "# (c): `iterative_solve`"
   ]
  },
  {
   "cell_type": "code",
   "execution_count": 13,
   "id": "1445d609",
   "metadata": {
    "code_folding": []
   },
   "outputs": [],
   "source": [
    "def iterative_solve(StepFcn, A, f, u0, maxIters=50, tol=1.e-5):\n",
    "    '''\n",
    "     u = iterative_solve(StepFcn, A, f, u0, maxIters=50, tol=1e-5)\n",
    "     \n",
    "     Iteratively solves A u = f, taking steps specified by the\n",
    "     function StepFcn.\n",
    "     \n",
    "     Inputs:\n",
    "      StepFcn  function that takes a single step. Its calling signature\n",
    "               must be\n",
    "                 u = StepFcn(A, f, u0)\n",
    "      A        (N,N) array holding the system matrix\n",
    "      f        (N,) vector, RHS vector of the system\n",
    "      u0       (N,) vector, initial guess at the solution\n",
    "      maxIters maximum number of iterations\n",
    "      tol      tolerance for stopping criterion. Convergence is considered\n",
    "               successful if the 2-norm of the residual is less than tol.\n",
    "               \n",
    "               If the maxIter is reached and the tolerance is still not\n",
    "               satisfied, then the function should print a message stating\n",
    "               that the method did not successfully converge.\n",
    "      \n",
    "     Outputs:\n",
    "      u        (N,) vector approximation of the solution\n",
    "    '''\n",
    "    N = len(f)\n",
    "    u = u0.copy() \n",
    "    r = np.ones_like(f)\n",
    "    count = 0\n",
    "    \n",
    "    while (np.linalg.norm(r) > tol):\n",
    "    \n",
    "        v = StepFcn(A, f, u)       \n",
    "        r = f - (np.dot(A, v))\n",
    "\n",
    "        count += 1\n",
    "        u = v.copy()\n",
    "        \n",
    "        # If any of the elements of r to NaN, then it has blown up to cause an overflow\n",
    "        if (np.isnan(r).any() or count > maxIters):\n",
    "            print(\"Fails to converge\")\n",
    "            return None\n",
    "    \n",
    "    return v"
   ]
  },
  {
   "cell_type": "code",
   "execution_count": 6,
   "id": "a705cfc6",
   "metadata": {},
   "outputs": [],
   "source": [
    "def diagonally_dominant(A):\n",
    "    \n",
    "    diags = np.zeros(A.shape[0])\n",
    "    off_diags = np.zeros(A.shape[0])\n",
    "    \n",
    "    for i in range(A.shape[0]):\n",
    "        off_diagonal_sum = 0\n",
    "        diag = A[i, i]\n",
    "        for j in range(A.shape[1]):\n",
    "            if i != j:\n",
    "                off_diagonal_sum += abs(A[i, j])\n",
    "        \n",
    "        if off_diagonal_sum > diag:\n",
    "            return False, (i, off_diagonal_sum, diag)\n",
    "        \n",
    "    return True, _"
   ]
  },
  {
   "cell_type": "markdown",
   "id": "94952586",
   "metadata": {},
   "source": [
    "# (d)"
   ]
  },
  {
   "cell_type": "code",
   "execution_count": 7,
   "id": "d81acaef",
   "metadata": {},
   "outputs": [],
   "source": [
    "def will_converge(A):\n",
    "    diag_dominant, _ = diagonally_dominant(A)\n",
    "    if diag_dominant:\n",
    "        return \"Matrix is diagonally dominant, can use J or GS, both are guaranteed to converge\"\n",
    "    \n",
    "    pd = np.all(np.linalg.eigvals(A) > 0)\n",
    "    sym = np.allclose(A, A.T, atol=1e-12)\n",
    "    \n",
    "    if pd and sym:\n",
    "        return \"Matrix is positive definite and symmetric, but not diagonally dominant. Gauss-Seidel will converge, Jacobi may or may not\"\n",
    "    \n",
    "    return \"May or may not converge\""
   ]
  },
  {
   "cell_type": "markdown",
   "id": "eb20703b",
   "metadata": {},
   "source": [
    "## System 1"
   ]
  },
  {
   "cell_type": "code",
   "execution_count": 8,
   "id": "919d1f20",
   "metadata": {},
   "outputs": [],
   "source": [
    "# Load the system from the file system1.npz\n",
    "data1 = np.load('system1.npz')\n",
    "A1 = data1['A']\n",
    "f1 = data1['f']"
   ]
  },
  {
   "cell_type": "code",
   "execution_count": 9,
   "id": "c249476f",
   "metadata": {},
   "outputs": [
    {
     "name": "stdout",
     "output_type": "stream",
     "text": [
      "A1 Matrix is diagonally dominant, can use J or GS, both are guaranteed to converge\n"
     ]
    }
   ],
   "source": [
    "# Determine if any of the convergence theorems apply.\n",
    "v1_J = iterative_solve(Jacobi_step, A1, f1, np.ones_like(f1), maxIters = 1000, tol = 10e-4)\n",
    "v1_GS= iterative_solve(GS_step, A1, f1, np.ones_like(f1), maxIters = 1000, tol = 10e-4)\n",
    "\n",
    "print(\"A1 \" + will_converge(A1))"
   ]
  },
  {
   "cell_type": "code",
   "execution_count": 14,
   "id": "3c90f4e3",
   "metadata": {},
   "outputs": [
    {
     "name": "stdout",
     "output_type": "stream",
     "text": [
      "Jacobi Residual Solution: \n",
      "[ 0.18626077 -0.29574517  0.18334608  0.24363594  0.10050612  0.11484692\n",
      " -0.24841585  0.13456753 -0.18453202 -0.01292882  0.12313881  0.10982869\n",
      "  0.30751189  0.06963749 -0.01483954 -0.31279143 -0.28498091  0.16762298\n",
      " -0.12399915  0.16439319 -0.05634716 -0.12282899  0.0074121   0.32324275\n",
      "  0.1360699  -0.25812647 -0.16149191  0.25964131 -0.30784832 -0.31384631\n",
      " -0.01107099  0.27448764 -0.06647953 -0.30068649  0.02742924  0.13359014\n",
      " -0.29013877  0.07675133 -0.18676857  0.08094235 -0.22579644 -0.23352478\n",
      " -0.00375997 -0.17073687  0.2877989  -0.26416977  0.3187099  -0.25343944\n",
      " -0.07887928  0.19313376 -0.06770649 -0.16295874 -0.25992555  0.23410182\n",
      "  0.2675301  -0.24503237  0.14884089 -0.0106379   0.1294775   0.32061091\n",
      "  0.00957128  0.30499456  0.32135518  0.17668147 -0.23259707 -0.13461717\n",
      " -0.08865314  0.13906174  0.19389769 -0.23647357 -0.24721324  0.1518979\n",
      " -0.25950526 -0.2867984  -0.20071661 -0.05960143  0.16070971 -0.00880309\n",
      "  0.14317258  0.23402334 -0.04521983  0.0422134  -0.0857719  -0.15669817\n",
      " -0.04108675  0.2479919  -0.31298434 -0.1653307   0.02340361  0.16317899\n",
      "  0.05672658  0.06732578  0.30371574 -0.13163296  0.19054328  0.03121067\n",
      "  0.14823578  0.22117674  0.01918888 -0.23980464]\n",
      "\n",
      "Gauss-Seidel Solution: \n",
      "[ 0.18626076 -0.29574523  0.1833447   0.24363625  0.10050564  0.11484667\n",
      " -0.24841748  0.13456873 -0.18453127 -0.01292812  0.12313865  0.10982829\n",
      "  0.30751226  0.06963823 -0.01483958 -0.31279271 -0.28498278  0.16762201\n",
      " -0.12399695  0.16439394 -0.05634629 -0.1228292   0.00741185  0.32324268\n",
      "  0.13607113 -0.25812619 -0.16149246  0.25963929 -0.3078479  -0.31384691\n",
      " -0.01107182  0.27448858 -0.06647885 -0.3006874   0.02742857  0.13359002\n",
      " -0.29013864  0.07675068 -0.18676937  0.08094323 -0.22579589 -0.2335252\n",
      " -0.00375959 -0.1707374   0.28779797 -0.26416965  0.31871014 -0.25343939\n",
      " -0.07887838  0.19313355 -0.06770755 -0.16295831 -0.25992576  0.23410209\n",
      "  0.26752951 -0.24503316  0.14883918 -0.01063783  0.12947716  0.32061224\n",
      "  0.00956992  0.30499398  0.32135384  0.17668014 -0.23259639 -0.13461818\n",
      " -0.08865443  0.13906101  0.19389742 -0.23647335 -0.24721343  0.15189763\n",
      " -0.25950617 -0.28679822 -0.20071657 -0.05960123  0.16070884 -0.0088024\n",
      "  0.14317273  0.23402364 -0.04522008  0.04221354 -0.08577102 -0.15669756\n",
      " -0.04108755  0.24799269 -0.3129845  -0.16533065  0.02340489  0.16317912\n",
      "  0.05672558  0.06732573  0.30371606 -0.13163147  0.1905425   0.03121014\n",
      "  0.14823577  0.22117642  0.01918812 -0.23980361]\n"
     ]
    }
   ],
   "source": [
    "#np.zeros_like(f1)\n",
    "print(\"Jacobi Residual Solution: \")\n",
    "print(v1_J)\n",
    "print()\n",
    "print(\"Gauss-Seidel Solution: \")\n",
    "print(v1_GS)"
   ]
  },
  {
   "cell_type": "markdown",
   "id": "545f5a5b",
   "metadata": {},
   "source": [
    "## System 2"
   ]
  },
  {
   "cell_type": "code",
   "execution_count": 11,
   "id": "c6f0fe76",
   "metadata": {},
   "outputs": [
    {
     "name": "stdout",
     "output_type": "stream",
     "text": [
      "A2 Matrix is positive definite and symmetric, but not diagonally dominant. Gauss-Seidel will converge, Jacobi may or may not\n"
     ]
    }
   ],
   "source": [
    "# Load the system from the file system2.npz\n",
    "data2 = np.load('system2.npz')\n",
    "A2 = data2['A']\n",
    "f2 = data2['f']\n",
    "\n",
    "print(\"A2 \" + will_converge(A2))"
   ]
  },
  {
   "cell_type": "code",
   "execution_count": 12,
   "id": "ae080c78",
   "metadata": {},
   "outputs": [
    {
     "name": "stdout",
     "output_type": "stream",
     "text": [
      "Jacobi Solution: \n",
      "Fails to converge\n",
      "\n",
      "Gauss-Seidel Solution: \n",
      "[  0.1731696   10.98640521  23.6189771    1.95344247 -43.65139767\n",
      "   5.59811439  16.45570036  35.2086366   38.75276783   3.50752706\n",
      "  22.52374877  13.92071161 -10.93794218 -27.68185818  25.0568833\n",
      "  16.33403932 -28.86864363   1.48727979  -0.8657803   10.21570819\n",
      "  23.97059917   3.61065372  26.97137878  12.67527954   7.40420886\n",
      "  21.94632824  -2.62305615 -11.57373843   7.07059185  -4.15880915\n",
      " -28.8711918  -12.30607452  12.10580992 -22.05571482  15.88597387\n",
      " -14.28549582  15.80777293 -14.44355126   6.79712468  34.20076013\n",
      "  23.90330789  -0.40884063  -8.01393852  19.52147715  28.47746912\n",
      " -15.26490604   8.06301365  14.07748777  -3.37276567 -23.20402621\n",
      "  19.58102246 -14.92904276  22.8077017  -37.48150127  16.5001963\n",
      "  -0.62921321   7.74244401  -5.18591774   3.25575792   3.41043358\n",
      "   6.42927558   1.20309054  -1.77919057  15.48259687   7.24355538\n",
      "  -2.07956949   7.32327812  -6.47574818  26.01237698  -6.02358927\n",
      "  -1.65911132  -7.56743388  35.70696881   2.38929952 -17.00985487\n",
      "   1.20833237  38.31626778  11.47289511   7.4478205    4.11094251\n",
      "   7.54483876   8.99096718 -14.2171024   13.8770118   -3.40327075\n",
      "  -5.75098524  19.8479811   -4.23591779  -3.68414131  -4.54104244\n",
      "  21.74834637  -9.58283816   7.14588306  -8.3222187   -7.2482662\n",
      "  41.01734001 -15.92469823  12.82502165 -25.01596066  26.31608077\n",
      "  -7.68124244 -14.21142907 -17.86541181 -13.42442472   5.28395235\n",
      "   6.07990554  19.94118316  34.18107509  19.69906771 -25.49018539]\n"
     ]
    }
   ],
   "source": [
    "# Determine if any of the convergence theorems apply.\n",
    "\n",
    "print(\"Jacobi Solution: \")\n",
    "v2_J = iterative_solve(Jacobi_step, A2, f2, np.ones_like(f2), maxIters = 1000, tol = 10e-4)\n",
    "\n",
    "print()\n",
    "print(\"Gauss-Seidel Solution: \")\n",
    "v2_GS = iterative_solve(GS_step, A2, f2, np.ones_like(f2), maxIters = 1000, tol = 10e-4)\n",
    "print(v2_GS)\n"
   ]
  },
  {
   "cell_type": "markdown",
   "id": "422ecf48",
   "metadata": {},
   "source": [
    "The Jacobi method does not converge in this example. This is because A2 is not diagonally dominant it cannot be guaranteed to converge. However even in the non diagonally dominant case, the Gauss-Seidel method still converges to a solution, this is because the matrix A2 is positive definite and symmetric. As I increase the maxIters parameter, the norm of the residual of the GS methods goes to 0, while the norm of the residual for the Jacobi method goes to inf."
   ]
  }
 ],
 "metadata": {
  "kernelspec": {
   "display_name": "Python 3 (ipykernel)",
   "language": "python",
   "name": "python3"
  },
  "language_info": {
   "codemirror_mode": {
    "name": "ipython",
    "version": 3
   },
   "file_extension": ".py",
   "mimetype": "text/x-python",
   "name": "python",
   "nbconvert_exporter": "python",
   "pygments_lexer": "ipython3",
   "version": "3.9.13"
  },
  "varInspector": {
   "cols": {
    "lenName": 16,
    "lenType": 16,
    "lenVar": 40
   },
   "kernels_config": {
    "python": {
     "delete_cmd_postfix": "",
     "delete_cmd_prefix": "del ",
     "library": "var_list.py",
     "varRefreshCmd": "print(var_dic_list())"
    },
    "r": {
     "delete_cmd_postfix": ") ",
     "delete_cmd_prefix": "rm(",
     "library": "var_list.r",
     "varRefreshCmd": "cat(var_dic_list()) "
    }
   },
   "types_to_exclude": [
    "module",
    "function",
    "builtin_function_or_method",
    "instance",
    "_Feature"
   ],
   "window_display": false
  }
 },
 "nbformat": 4,
 "nbformat_minor": 5
}
